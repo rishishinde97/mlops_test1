{
 "cells": [
  {
   "cell_type": "code",
   "execution_count": 9,
   "id": "96f7bd2a",
   "metadata": {},
   "outputs": [],
   "source": [
    "import numpy as np\n",
    "import pandas as pd\n",
    "import missingno  as msno"
   ]
  },
  {
   "cell_type": "code",
   "execution_count": 8,
   "id": "647fabbb",
   "metadata": {},
   "outputs": [
    {
     "name": "stderr",
     "output_type": "stream",
     "text": [
      "ERROR: pip's dependency resolver does not currently take into account all the packages that are installed. This behaviour is the source of the following dependency conflicts.\n",
      "daal4py 2021.3.0 requires daal==2021.2.3, which is not installed.\n",
      "thinc 8.0.17 requires pydantic!=1.8,!=1.8.1,<1.9.0,>=1.7.4, but you have pydantic 1.9.0 which is incompatible.\n",
      "spacy 3.3.1 requires pydantic!=1.8,!=1.8.1,<1.9.0,>=1.7.4, but you have pydantic 1.9.0 which is incompatible.\n",
      "rasa 3.2.1 requires cloudpickle<1.7,>=1.2, but you have cloudpickle 3.0.0 which is incompatible.\n",
      "rasa 3.2.1 requires joblib<1.1.0,>=0.15.1, but you have joblib 1.4.2 which is incompatible.\n",
      "rasa 3.2.1 requires matplotlib<3.4,>=3.1, but you have matplotlib 3.4.3 which is incompatible."
     ]
    },
    {
     "name": "stdout",
     "output_type": "stream",
     "text": [
      "Collecting missingno\n",
      "  Downloading missingno-0.5.2-py3-none-any.whl (8.7 kB)\n",
      "Requirement already satisfied: seaborn in c:\\users\\rudu\\anaconda3\\lib\\site-packages (from missingno) (0.11.2)\n",
      "Requirement already satisfied: matplotlib in c:\\users\\rudu\\anaconda3\\lib\\site-packages (from missingno) (3.4.3)\n",
      "Requirement already satisfied: scipy in c:\\users\\rudu\\anaconda3\\lib\\site-packages (from missingno) (1.7.1)\n",
      "Requirement already satisfied: numpy in c:\\users\\rudu\\anaconda3\\lib\\site-packages (from missingno) (1.23.0)\n",
      "Requirement already satisfied: python-dateutil>=2.7 in c:\\users\\rudu\\anaconda3\\lib\\site-packages (from matplotlib->missingno) (2.8.2)\n",
      "Requirement already satisfied: cycler>=0.10 in c:\\users\\rudu\\anaconda3\\lib\\site-packages (from matplotlib->missingno) (0.10.0)\n",
      "Requirement already satisfied: kiwisolver>=1.0.1 in c:\\users\\rudu\\anaconda3\\lib\\site-packages (from matplotlib->missingno) (1.3.1)\n",
      "Requirement already satisfied: pyparsing>=2.2.1 in c:\\users\\rudu\\anaconda3\\lib\\site-packages (from matplotlib->missingno) (3.0.4)\n",
      "Requirement already satisfied: pillow>=6.2.0 in c:\\users\\rudu\\anaconda3\\lib\\site-packages (from matplotlib->missingno) (8.4.0)\n",
      "Requirement already satisfied: six in c:\\users\\rudu\\anaconda3\\lib\\site-packages (from cycler>=0.10->matplotlib->missingno) (1.16.0)\n",
      "Collecting numpy\n",
      "  Downloading numpy-1.22.4-cp39-cp39-win_amd64.whl (14.7 MB)\n",
      "Requirement already satisfied: pandas>=0.23 in c:\\users\\rudu\\anaconda3\\lib\\site-packages (from seaborn->missingno) (1.3.4)\n",
      "Requirement already satisfied: pytz>=2017.3 in c:\\users\\rudu\\anaconda3\\lib\\site-packages (from pandas>=0.23->seaborn->missingno) (2024.1)\n",
      "Installing collected packages: numpy, missingno\n",
      "  Attempting uninstall: numpy\n",
      "    Found existing installation: numpy 1.23.0\n",
      "    Uninstalling numpy-1.23.0:\n",
      "      Successfully uninstalled numpy-1.23.0\n",
      "Successfully installed missingno-0.5.2 numpy-1.22.4\n"
     ]
    },
    {
     "name": "stderr",
     "output_type": "stream",
     "text": [
      "\n",
      "rasa 3.2.1 requires numpy<1.20.0,>=1.19.2, but you have numpy 1.22.4 which is incompatible.\n",
      "rasa 3.2.1 requires packaging<21.0,>=20.0, but you have packaging 24.2 which is incompatible.\n",
      "rasa 3.2.1 requires prompt-toolkit<3.0,>=2.0, but you have prompt-toolkit 3.0.20 which is incompatible.\n",
      "rasa 3.2.1 requires pytz<2022.0,>=2019.1, but you have pytz 2024.1 which is incompatible.\n",
      "numba 0.54.1 requires numpy<1.21,>=1.17, but you have numpy 1.22.4 which is incompatible.\n",
      "gensim 4.2.0 requires Cython==0.29.28, but you have cython 3.0.10 which is incompatible.\n"
     ]
    }
   ],
   "source": [
    "!pip install missingno"
   ]
  },
  {
   "cell_type": "code",
   "execution_count": 4,
   "id": "c3a592cd",
   "metadata": {},
   "outputs": [],
   "source": [
    "df = pd.read_csv('swiggy.csv')"
   ]
  },
  {
   "cell_type": "code",
   "execution_count": 6,
   "id": "63b3fcf2",
   "metadata": {},
   "outputs": [
    {
     "data": {
      "text/html": [
       "<div>\n",
       "<style scoped>\n",
       "    .dataframe tbody tr th:only-of-type {\n",
       "        vertical-align: middle;\n",
       "    }\n",
       "\n",
       "    .dataframe tbody tr th {\n",
       "        vertical-align: top;\n",
       "    }\n",
       "\n",
       "    .dataframe thead th {\n",
       "        text-align: right;\n",
       "    }\n",
       "</style>\n",
       "<table border=\"1\" class=\"dataframe\">\n",
       "  <thead>\n",
       "    <tr style=\"text-align: right;\">\n",
       "      <th></th>\n",
       "      <th>ID</th>\n",
       "      <th>Delivery_person_ID</th>\n",
       "      <th>Delivery_person_Age</th>\n",
       "      <th>Delivery_person_Ratings</th>\n",
       "      <th>Restaurant_latitude</th>\n",
       "      <th>Restaurant_longitude</th>\n",
       "      <th>Delivery_location_latitude</th>\n",
       "      <th>Delivery_location_longitude</th>\n",
       "      <th>Order_Date</th>\n",
       "      <th>Time_Orderd</th>\n",
       "      <th>Time_Order_picked</th>\n",
       "      <th>Weatherconditions</th>\n",
       "      <th>Road_traffic_density</th>\n",
       "      <th>Vehicle_condition</th>\n",
       "      <th>Type_of_order</th>\n",
       "      <th>Type_of_vehicle</th>\n",
       "      <th>multiple_deliveries</th>\n",
       "      <th>Festival</th>\n",
       "      <th>City</th>\n",
       "      <th>Time_taken(min)</th>\n",
       "    </tr>\n",
       "  </thead>\n",
       "  <tbody>\n",
       "    <tr>\n",
       "      <th>14839</th>\n",
       "      <td>0xaf91</td>\n",
       "      <td>CHENRES15DEL01</td>\n",
       "      <td>31</td>\n",
       "      <td>4.6</td>\n",
       "      <td>13.026286</td>\n",
       "      <td>80.275235</td>\n",
       "      <td>13.066286</td>\n",
       "      <td>80.315235</td>\n",
       "      <td>17-03-2022</td>\n",
       "      <td>16:00:00</td>\n",
       "      <td>16:15:00</td>\n",
       "      <td>conditions Cloudy</td>\n",
       "      <td>Medium</td>\n",
       "      <td>2</td>\n",
       "      <td>Meal</td>\n",
       "      <td>motorcycle</td>\n",
       "      <td>1</td>\n",
       "      <td>No</td>\n",
       "      <td>Metropolitian</td>\n",
       "      <td>(min) 19</td>\n",
       "    </tr>\n",
       "    <tr>\n",
       "      <th>38231</th>\n",
       "      <td>0x396f</td>\n",
       "      <td>RANCHIRES07DEL01</td>\n",
       "      <td>21</td>\n",
       "      <td>4.6</td>\n",
       "      <td>23.359407</td>\n",
       "      <td>85.325055</td>\n",
       "      <td>23.369407</td>\n",
       "      <td>85.335055</td>\n",
       "      <td>01-03-2022</td>\n",
       "      <td>08:25:00</td>\n",
       "      <td>08:35:00</td>\n",
       "      <td>conditions Fog</td>\n",
       "      <td>Low</td>\n",
       "      <td>2</td>\n",
       "      <td>Drinks</td>\n",
       "      <td>electric_scooter</td>\n",
       "      <td>1</td>\n",
       "      <td>No</td>\n",
       "      <td>Metropolitian</td>\n",
       "      <td>(min) 11</td>\n",
       "    </tr>\n",
       "    <tr>\n",
       "      <th>32439</th>\n",
       "      <td>0x9492</td>\n",
       "      <td>INDORES12DEL03</td>\n",
       "      <td>25</td>\n",
       "      <td>4.5</td>\n",
       "      <td>22.748060</td>\n",
       "      <td>75.893400</td>\n",
       "      <td>22.838060</td>\n",
       "      <td>75.983400</td>\n",
       "      <td>02-04-2022</td>\n",
       "      <td>21:50:00</td>\n",
       "      <td>22:00:00</td>\n",
       "      <td>conditions Windy</td>\n",
       "      <td>Jam</td>\n",
       "      <td>1</td>\n",
       "      <td>Snack</td>\n",
       "      <td>scooter</td>\n",
       "      <td>1</td>\n",
       "      <td>No</td>\n",
       "      <td>Metropolitian</td>\n",
       "      <td>(min) 24</td>\n",
       "    </tr>\n",
       "    <tr>\n",
       "      <th>19720</th>\n",
       "      <td>0xaf6e</td>\n",
       "      <td>BANGRES12DEL03</td>\n",
       "      <td>36</td>\n",
       "      <td>4.4</td>\n",
       "      <td>12.939496</td>\n",
       "      <td>77.625999</td>\n",
       "      <td>13.029496</td>\n",
       "      <td>77.715999</td>\n",
       "      <td>18-03-2022</td>\n",
       "      <td>21:00:00</td>\n",
       "      <td>21:05:00</td>\n",
       "      <td>conditions Fog</td>\n",
       "      <td>Jam</td>\n",
       "      <td>1</td>\n",
       "      <td>Meal</td>\n",
       "      <td>scooter</td>\n",
       "      <td>0</td>\n",
       "      <td>No</td>\n",
       "      <td>Metropolitian</td>\n",
       "      <td>(min) 46</td>\n",
       "    </tr>\n",
       "    <tr>\n",
       "      <th>17556</th>\n",
       "      <td>0xada7</td>\n",
       "      <td>MYSRES14DEL03</td>\n",
       "      <td>29</td>\n",
       "      <td>4.9</td>\n",
       "      <td>0.000000</td>\n",
       "      <td>0.000000</td>\n",
       "      <td>0.090000</td>\n",
       "      <td>0.090000</td>\n",
       "      <td>18-03-2022</td>\n",
       "      <td>20:25:00</td>\n",
       "      <td>20:40:00</td>\n",
       "      <td>conditions Sandstorms</td>\n",
       "      <td>Jam</td>\n",
       "      <td>1</td>\n",
       "      <td>Snack</td>\n",
       "      <td>scooter</td>\n",
       "      <td>1</td>\n",
       "      <td>No</td>\n",
       "      <td>Metropolitian</td>\n",
       "      <td>(min) 22</td>\n",
       "    </tr>\n",
       "  </tbody>\n",
       "</table>\n",
       "</div>"
      ],
      "text/plain": [
       "            ID Delivery_person_ID Delivery_person_Age Delivery_person_Ratings  \\\n",
       "14839  0xaf91     CHENRES15DEL01                   31                     4.6   \n",
       "38231  0x396f   RANCHIRES07DEL01                   21                     4.6   \n",
       "32439  0x9492     INDORES12DEL03                   25                     4.5   \n",
       "19720  0xaf6e     BANGRES12DEL03                   36                     4.4   \n",
       "17556  0xada7      MYSRES14DEL03                   29                     4.9   \n",
       "\n",
       "       Restaurant_latitude  Restaurant_longitude  Delivery_location_latitude  \\\n",
       "14839            13.026286             80.275235                   13.066286   \n",
       "38231            23.359407             85.325055                   23.369407   \n",
       "32439            22.748060             75.893400                   22.838060   \n",
       "19720            12.939496             77.625999                   13.029496   \n",
       "17556             0.000000              0.000000                    0.090000   \n",
       "\n",
       "       Delivery_location_longitude  Order_Date Time_Orderd Time_Order_picked  \\\n",
       "14839                    80.315235  17-03-2022    16:00:00          16:15:00   \n",
       "38231                    85.335055  01-03-2022    08:25:00          08:35:00   \n",
       "32439                    75.983400  02-04-2022    21:50:00          22:00:00   \n",
       "19720                    77.715999  18-03-2022    21:00:00          21:05:00   \n",
       "17556                     0.090000  18-03-2022    20:25:00          20:40:00   \n",
       "\n",
       "           Weatherconditions Road_traffic_density  Vehicle_condition  \\\n",
       "14839      conditions Cloudy              Medium                   2   \n",
       "38231         conditions Fog                 Low                   2   \n",
       "32439       conditions Windy                 Jam                   1   \n",
       "19720         conditions Fog                 Jam                   1   \n",
       "17556  conditions Sandstorms                 Jam                   1   \n",
       "\n",
       "      Type_of_order    Type_of_vehicle multiple_deliveries Festival  \\\n",
       "14839         Meal         motorcycle                    1      No    \n",
       "38231       Drinks   electric_scooter                    1      No    \n",
       "32439        Snack            scooter                    1      No    \n",
       "19720         Meal            scooter                    0      No    \n",
       "17556        Snack            scooter                    1      No    \n",
       "\n",
       "                 City Time_taken(min)  \n",
       "14839  Metropolitian         (min) 19  \n",
       "38231  Metropolitian         (min) 11  \n",
       "32439  Metropolitian         (min) 24  \n",
       "19720  Metropolitian         (min) 46  \n",
       "17556  Metropolitian         (min) 22  "
      ]
     },
     "execution_count": 6,
     "metadata": {},
     "output_type": "execute_result"
    }
   ],
   "source": [
    "df.sample(5)"
   ]
  },
  {
   "cell_type": "code",
   "execution_count": 12,
   "id": "a4305587",
   "metadata": {},
   "outputs": [
    {
     "data": {
      "text/plain": [
       "ID                             0\n",
       "Delivery_person_ID             0\n",
       "Delivery_person_Age            0\n",
       "Delivery_person_Ratings        0\n",
       "Restaurant_latitude            0\n",
       "Restaurant_longitude           0\n",
       "Delivery_location_latitude     0\n",
       "Delivery_location_longitude    0\n",
       "Order_Date                     0\n",
       "Time_Orderd                    0\n",
       "Time_Order_picked              0\n",
       "Weatherconditions              0\n",
       "Road_traffic_density           0\n",
       "Vehicle_condition              0\n",
       "Type_of_order                  0\n",
       "Type_of_vehicle                0\n",
       "multiple_deliveries            0\n",
       "Festival                       0\n",
       "City                           0\n",
       "Time_taken(min)                0\n",
       "dtype: int64"
      ]
     },
     "execution_count": 12,
     "metadata": {},
     "output_type": "execute_result"
    }
   ],
   "source": [
    "df.isna().sum()"
   ]
  },
  {
   "cell_type": "code",
   "execution_count": 10,
   "id": "78c4ae7f",
   "metadata": {},
   "outputs": [
    {
     "data": {
      "text/plain": [
       "<AxesSubplot:>"
      ]
     },
     "execution_count": 10,
     "metadata": {},
     "output_type": "execute_result"
    },
    {
     "data": {
      "image/png": "[encoded data removed]",
      "text/plain": [
       "<Figure size 1800x720 with 2 Axes>"
      ]
     },
     "metadata": {
      "needs_background": "light"
     },
     "output_type": "display_data"
    }
   ],
   "source": [
    "msno.matrix(df)"
   ]
  },
  {
   "cell_type": "code",
   "execution_count": 13,
   "id": "3478f65b",
   "metadata": {},
   "outputs": [
    {
     "data": {
      "text/plain": [
       "8515"
      ]
     },
     "execution_count": 13,
     "metadata": {},
     "output_type": "execute_result"
    }
   ],
   "source": [
    "(df == 'NaN ').sum().sum()"
   ]
  },
  {
   "cell_type": "code",
   "execution_count": null,
   "id": "114eb8c3",
   "metadata": {},
   "outputs": [],
   "source": []
  }
 ],
 "metadata": {
  "kernelspec": {
   "display_name": "Python 3 (ipykernel)",
   "language": "python",
   "name": "python3"
  },
  "language_info": {
   "codemirror_mode": {
    "name": "ipython",
    "version": 3
   },
   "file_extension": ".py",
   "mimetype": "text/x-python",
   "name": "python",
   "nbconvert_exporter": "python",
   "pygments_lexer": "ipython3",
   "version": "3.9.7"
  }
 },
 "nbformat": 4,
 "nbformat_minor": 5
}
